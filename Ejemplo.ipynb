{
  "nbformat": 4,
  "nbformat_minor": 0,
  "metadata": {
    "colab": {
      "provenance": [],
      "authorship_tag": "ABX9TyO1pLAnrEmArRmk7jAiJskx",
      "include_colab_link": true
    },
    "kernelspec": {
      "name": "python3",
      "display_name": "Python 3"
    },
    "language_info": {
      "name": "python"
    }
  },
  "cells": [
    {
      "cell_type": "markdown",
      "metadata": {
        "id": "view-in-github",
        "colab_type": "text"
      },
      "source": [
        "<a href=\"https://colab.research.google.com/github/RaulZV/Artista/blob/main/Ejemplo.ipynb\" target=\"_parent\"><img src=\"https://colab.research.google.com/assets/colab-badge.svg\" alt=\"Open In Colab\"/></a>"
      ]
    },
    {
      "cell_type": "code",
      "execution_count": null,
      "metadata": {
        "id": "oHLU1rfDwiOh"
      },
      "outputs": [],
      "source": []
    },
    {
      "cell_type": "markdown",
      "source": [
        "Prueba de Colab Python\n"
      ],
      "metadata": {
        "id": "FHMAaXWFxasy"
      }
    },
    {
      "cell_type": "code",
      "source": [
        "print(\"Hola Mundo\")"
      ],
      "metadata": {
        "colab": {
          "base_uri": "https://localhost:8080/"
        },
        "id": "fpSoeoOXx1oY",
        "outputId": "b27097be-c820-4681-dfdc-69000896a49f"
      },
      "execution_count": 1,
      "outputs": [
        {
          "output_type": "stream",
          "name": "stdout",
          "text": [
            "Hola Mundo\n"
          ]
        }
      ]
    },
    {
      "cell_type": "markdown",
      "source": [
        "Variables"
      ],
      "metadata": {
        "id": "tm3Mtb77yMB_"
      }
    },
    {
      "cell_type": "code",
      "source": [
        "#variables en python\n",
        "nombre = \"Raul\"\n",
        "paterno = \"Zamora\"\n",
        "materno = \"Valles\"\n",
        "edad = 30\n",
        "estatura = 1.82\n",
        "\n",
        "print(nombre,paterno, materno, edad, estatura)"
      ],
      "metadata": {
        "colab": {
          "base_uri": "https://localhost:8080/"
        },
        "id": "o0wDs59AyRu8",
        "outputId": "65a2dc4b-a769-467b-d516-621e5c72d3b3"
      },
      "execution_count": 2,
      "outputs": [
        {
          "output_type": "stream",
          "name": "stdout",
          "text": [
            "Raul Zamora Valles 30 1.82\n"
          ]
        }
      ]
    },
    {
      "cell_type": "markdown",
      "source": [
        "Solicitar 2 numeros al usuario y sumarlos"
      ],
      "metadata": {
        "id": "nHX5oIdazDGF"
      }
    },
    {
      "cell_type": "code",
      "source": [
        "numero1 = int(input(\"Ingresa el primer numero\"))\n",
        "numero2 = int(input(\"Ingresa el segundo numero\"))\n",
        "suma = numero1 + numero2\n",
        "print(\"Suma = \" , suma)"
      ],
      "metadata": {
        "colab": {
          "base_uri": "https://localhost:8080/"
        },
        "id": "I4qnodsNzhcb",
        "outputId": "7aee1c27-2868-4283-a09c-4064f4aaa374"
      },
      "execution_count": 4,
      "outputs": [
        {
          "output_type": "stream",
          "name": "stdout",
          "text": [
            "Ingresa el primer numero12\n",
            "Ingresa el segundo numero3\n",
            "Suma =  15\n"
          ]
        }
      ]
    }
  ]
}